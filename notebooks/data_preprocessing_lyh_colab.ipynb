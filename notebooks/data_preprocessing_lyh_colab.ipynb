{
 "cells": [
  {
   "cell_type": "markdown",
   "id": "mkw-Pzl4wbG7",
   "metadata": {
    "id": "mkw-Pzl4wbG7"
   },
   "source": [
    "# 캐글 노트북"
   ]
  },
  {
   "cell_type": "code",
   "execution_count": null,
   "id": "rZNVsDXgwdvN",
   "metadata": {
    "id": "rZNVsDXgwdvN"
   },
   "outputs": [],
   "source": [
    "%%bash\n",
    "mkdir -p ~/.kaggle\n",
    "cat <<EOF > ~/.kaggle/kaggle.json\n",
    "{\"username\":\"leeyounghoeddie\",\"key\":\"379cf3724c7475897d95fa4675cd5bdd\"}\n",
    "EOF\n",
    "chmod 600 ~/.kaggle/kaggle.json"
   ]
  },
  {
   "cell_type": "code",
   "execution_count": null,
   "id": "XtMJgHFbwe6y",
   "metadata": {
    "colab": {
     "base_uri": "https://localhost:8080/"
    },
    "executionInfo": {
     "elapsed": 155606,
     "status": "ok",
     "timestamp": 1753083525299,
     "user": {
      "displayName": "Youngho LEE",
      "userId": "06875335164313575680"
     },
     "user_tz": -540
    },
    "id": "XtMJgHFbwe6y",
    "outputId": "f59ad4bc-f9c1-40f7-8d66-5f7691f2f3d1"
   },
   "outputs": [
    {
     "name": "stdout",
     "output_type": "stream",
     "text": [
      "Downloading ai03-level1-project.zip to /content\n",
      " 99% 3.88G/3.91G [00:09<00:00, 500MB/s]\n",
      "100% 3.91G/3.91G [00:09<00:00, 435MB/s]\n"
     ]
    }
   ],
   "source": [
    "!kaggle competitions download -c ai03-level1-project"
   ]
  },
  {
   "cell_type": "code",
   "execution_count": null,
   "id": "_2XOQklHwgAk",
   "metadata": {
    "id": "_2XOQklHwgAk"
   },
   "outputs": [],
   "source": [
    "!unzip -q ai03-level1-project.zip -d ./data"
   ]
  },
  {
   "cell_type": "markdown",
   "id": "f62a737e",
   "metadata": {
    "id": "f62a737e"
   },
   "source": [
    "# 환경설정"
   ]
  },
  {
   "cell_type": "code",
   "execution_count": null,
   "id": "8wDG63msW6WG",
   "metadata": {
    "colab": {
     "base_uri": "https://localhost:8080/"
    },
    "executionInfo": {
     "elapsed": 4396,
     "status": "ok",
     "timestamp": 1753688010276,
     "user": {
      "displayName": "Youngho LEE",
      "userId": "06875335164313575680"
     },
     "user_tz": -540
    },
    "id": "8wDG63msW6WG",
    "outputId": "1df515e1-7215-4d4e-a8f0-f86ad0955cd3"
   },
   "outputs": [],
   "source": [
    "import torch\n",
    "print(torch.__version__, torch.version.cuda)"
   ]
  },
  {
   "cell_type": "code",
   "execution_count": null,
   "id": "VdwQjJxmz6_i",
   "metadata": {
    "colab": {
     "base_uri": "https://localhost:8080/"
    },
    "executionInfo": {
     "elapsed": 16749,
     "status": "ok",
     "timestamp": 1753688027026,
     "user": {
      "displayName": "Youngho LEE",
      "userId": "06875335164313575680"
     },
     "user_tz": -540
    },
    "id": "VdwQjJxmz6_i",
    "outputId": "b9606a8d-b058-4823-c07b-ba4af0818b4b"
   },
   "outputs": [],
   "source": [
    "from google.colab import drive\n",
    "drive.mount('/content/drive')"
   ]
  },
  {
   "cell_type": "code",
   "execution_count": null,
   "id": "6xd0xECLBLC_",
   "metadata": {
    "colab": {
     "base_uri": "https://localhost:8080/"
    },
    "executionInfo": {
     "elapsed": 44959,
     "status": "ok",
     "timestamp": 1753688071987,
     "user": {
      "displayName": "Youngho LEE",
      "userId": "06875335164313575680"
     },
     "user_tz": -540
    },
    "id": "6xd0xECLBLC_",
    "outputId": "f969512f-2683-438b-f4d6-e58d365e85dd"
   },
   "outputs": [],
   "source": [
    "!unzip -o \"/content/drive/MyDrive/(개인)AI_3기/프로젝트/초급프로젝트/pill_images_v3.zip\" -d /content/"
   ]
  },
  {
   "cell_type": "markdown",
   "id": "3yp6u3cRfbuh",
   "metadata": {
    "id": "3yp6u3cRfbuh"
   },
   "source": [
    "2.7.1+cu118 11.8 이어야 함."
   ]
  },
  {
   "cell_type": "code",
   "execution_count": null,
   "id": "o2ZNO23BUHhp",
   "metadata": {
    "colab": {
     "base_uri": "https://localhost:8080/",
     "height": 950
    },
    "executionInfo": {
     "elapsed": 96386,
     "status": "ok",
     "timestamp": 1753688168423,
     "user": {
      "displayName": "Youngho LEE",
      "userId": "06875335164313575680"
     },
     "user_tz": -540
    },
    "id": "o2ZNO23BUHhp",
    "outputId": "08b14772-f5bb-4ee1-af4d-4d1ec376193c"
   },
   "outputs": [],
   "source": [
    "\n",
    "# 1) 기존 설치된 torch/torchvision/torchaudio 제거\n",
    "!pip uninstall -y torch torchvision torchaudio\n",
    "\n",
    "# 2) Colab (2.0.1+cu118) 다시 설치\n",
    "!pip install torch==2.0.1+cu118 torchvision==0.15.2+cu118 torchaudio==2.0.2 \\\n",
    "  --extra-index-url https://download.pytorch.org/whl/cu118\n"
   ]
  },
  {
   "cell_type": "markdown",
   "id": "4uV92QvPflrO",
   "metadata": {
    "id": "4uV92QvPflrO"
   },
   "source": [
    "런타임 → 런타임 다시 시작"
   ]
  },
  {
   "cell_type": "code",
   "execution_count": null,
   "id": "0E6xnlOP26bG",
   "metadata": {
    "colab": {
     "base_uri": "https://localhost:8080/"
    },
    "executionInfo": {
     "elapsed": 3926,
     "status": "ok",
     "timestamp": 1753688180152,
     "user": {
      "displayName": "Youngho LEE",
      "userId": "06875335164313575680"
     },
     "user_tz": -540
    },
    "id": "0E6xnlOP26bG",
    "outputId": "797c818c-f644-4be6-fbcb-bf1fd8fb3fd5"
   },
   "outputs": [],
   "source": [
    "import torch\n",
    "print(torch.__version__, torch.version.cuda)"
   ]
  },
  {
   "cell_type": "code",
   "execution_count": null,
   "id": "E9-Qr59aXSmZ",
   "metadata": {
    "colab": {
     "base_uri": "https://localhost:8080/",
     "height": 1000
    },
    "executionInfo": {
     "elapsed": 116852,
     "status": "ok",
     "timestamp": 1753688297005,
     "user": {
      "displayName": "Youngho LEE",
      "userId": "06875335164313575680"
     },
     "user_tz": -540
    },
    "id": "E9-Qr59aXSmZ",
    "outputId": "b96c7fc6-8e41-40f3-f550-4ede4f8f06b3"
   },
   "outputs": [],
   "source": [
    "!pip install --upgrade \"torchvision>=0.16.0\" \\\n",
    "  --extra-index-url https://download.pytorch.org/whl/cu118"
   ]
  },
  {
   "cell_type": "markdown",
   "id": "Gfgt9qvEfvlz",
   "metadata": {
    "id": "Gfgt9qvEfvlz"
   },
   "source": [
    "런타임 → 런타임 다시 시작"
   ]
  },
  {
   "cell_type": "code",
   "execution_count": null,
   "id": "82XsWZlH3J8R",
   "metadata": {
    "colab": {
     "base_uri": "https://localhost:8080/"
    },
    "executionInfo": {
     "elapsed": 2181,
     "status": "ok",
     "timestamp": 1753688304602,
     "user": {
      "displayName": "Youngho LEE",
      "userId": "06875335164313575680"
     },
     "user_tz": -540
    },
    "id": "82XsWZlH3J8R",
    "outputId": "6d6ac5a2-d034-494e-a37b-3b9e5ad9f31d"
   },
   "outputs": [],
   "source": [
    "import torch\n",
    "print(torch.__version__, torch.version.cuda)"
   ]
  },
  {
   "cell_type": "markdown",
   "id": "tJmrQoRH1rhM",
   "metadata": {
    "id": "tJmrQoRH1rhM"
   },
   "source": [
    "2.7.1+cu118 11.8 이어야 함."
   ]
  },
  {
   "cell_type": "markdown",
   "id": "Gj_y_L9SlFUt",
   "metadata": {
    "id": "Gj_y_L9SlFUt"
   },
   "source": [
    "한글 세팅"
   ]
  },
  {
   "cell_type": "code",
   "execution_count": null,
   "id": "QCx_x8nT29US",
   "metadata": {
    "colab": {
     "base_uri": "https://localhost:8080/"
    },
    "executionInfo": {
     "elapsed": 23166,
     "status": "ok",
     "timestamp": 1753688327769,
     "user": {
      "displayName": "Youngho LEE",
      "userId": "06875335164313575680"
     },
     "user_tz": -540
    },
    "id": "QCx_x8nT29US",
    "outputId": "50ec74ba-3f76-4e27-8deb-e86e878d0083"
   },
   "outputs": [],
   "source": [
    "!sudo apt-get install -y fonts-nanum\n",
    "!sudo fc-cache -fv\n",
    "!rm ~/.cache/matplotlib -rf\n",
    "\n",
    "!apt-get update -qq\n",
    "!apt-get install fonts-nanum* -qq\n",
    "\n",
    "import matplotlib.pyplot as plt\n",
    "import matplotlib.font_manager as fm\n",
    "import warnings\n",
    "warnings.filterwarnings(action='ignore')\n",
    "\n",
    "path = '/usr/share/fonts/truetype/nanum/NanumBarunGothic.ttf' # 나눔 고딕\n",
    "font_name = fm.FontProperties(fname=path, size=10).get_name() # 기본 폰트 사이즈 : 10\n",
    "plt.rc('font', family=font_name)\n",
    "\n",
    "fm.fontManager.addfont(path)"
   ]
  },
  {
   "cell_type": "code",
   "execution_count": 3,
   "id": "d6895c95",
   "metadata": {
    "executionInfo": {
     "elapsed": 2254,
     "status": "ok",
     "timestamp": 1753688330025,
     "user": {
      "displayName": "Youngho LEE",
      "userId": "06875335164313575680"
     },
     "user_tz": -540
    },
    "id": "d6895c95"
   },
   "outputs": [],
   "source": [
    "import os\n",
    "import json\n",
    "import torch\n",
    "import torch.nn as nn\n",
    "import torch.optim as optim\n",
    "import numpy as np\n",
    "import cv2\n",
    "import pandas as pd\n",
    "\n",
    "from pathlib import Path\n",
    "\n",
    "import torchvision\n",
    "import matplotlib.pyplot as plt\n",
    "import matplotlib.font_manager as fm\n",
    "from torchvision.io import read_image\n",
    "from torchvision.ops.boxes import masks_to_boxes\n",
    "from torchvision import tv_tensors\n",
    "from torchvision.transforms.v2 import functional as F\n",
    "import torchvision.transforms.v2 as v2\n",
    "from torchvision.transforms import v2 as T\n",
    "from PIL import Image, ImageEnhance, ImageFilter\n",
    "from torch.utils.data import Dataset, DataLoader"
   ]
  },
  {
   "cell_type": "code",
   "execution_count": null,
   "id": "1e4f571c",
   "metadata": {
    "colab": {
     "base_uri": "https://localhost:8080/"
    },
    "executionInfo": {
     "elapsed": 6,
     "status": "ok",
     "timestamp": 1753239705325,
     "user": {
      "displayName": "Youngho LEE",
      "userId": "06875335164313575680"
     },
     "user_tz": -540
    },
    "id": "1e4f571c",
    "outputId": "2208ba33-90b6-498f-d819-b8695ddfaed8"
   },
   "outputs": [],
   "source": [
    "print(\"PyTorch:\", torch.__version__)\n",
    "print(\"MPS available:\", torch.backends.mps.is_available())\n",
    "device = torch.device(\"cuda\" if torch.backends.mps.is_available() else \"cpu\")\n",
    "print(device)\n",
    "\n",
    "os.makedirs(\"pth\", exist_ok=True)"
   ]
  },
  {
   "cell_type": "code",
   "execution_count": 4,
   "id": "VHFDIUJSx1Cm",
   "metadata": {
    "colab": {
     "base_uri": "https://localhost:8080/"
    },
    "executionInfo": {
     "elapsed": 4,
     "status": "ok",
     "timestamp": 1753688330080,
     "user": {
      "displayName": "Youngho LEE",
      "userId": "06875335164313575680"
     },
     "user_tz": -540
    },
    "id": "VHFDIUJSx1Cm",
    "outputId": "143773b2-2cab-4c83-ebee-0dbe5aef1d63"
   },
   "outputs": [
    {
     "name": "stdout",
     "output_type": "stream",
     "text": [
      "cuda\n"
     ]
    }
   ],
   "source": [
    "device = \"cuda\" if torch.cuda.is_available() else 'cpu'\n",
    "print(device)"
   ]
  },
  {
   "cell_type": "markdown",
   "id": "1d2ebefb",
   "metadata": {
    "id": "1d2ebefb"
   },
   "source": [
    "## 한글세팅"
   ]
  },
  {
   "cell_type": "markdown",
   "id": "6937fa68",
   "metadata": {
    "id": "6937fa68"
   },
   "source": [
    "※ macOS에서 구동하는 한글 세팅임."
   ]
  },
  {
   "cell_type": "code",
   "execution_count": null,
   "id": "e9076870",
   "metadata": {
    "id": "e9076870"
   },
   "outputs": [],
   "source": [
    "# macOS용 한글 폰트 설정\n",
    "\"\"\"\n",
    "# macOS에서 사용 가능한 한글 폰트들\n",
    "macos_korean_fonts = [\n",
    "    '/System/Library/Fonts/AppleGothic.ttf',\n",
    "    '/System/Library/Fonts/AppleSDGothicNeo.ttc',\n",
    "    '/Library/Fonts/NanumGothic.ttf',\n",
    "    '/Library/Fonts/NanumBarunGothic.ttf',\n",
    "    '/System/Library/Fonts/PingFang.ttc'\n",
    "]\n",
    "\n",
    "# 사용 가능한 폰트 찾기\n",
    "available_font = None\n",
    "for font_path in macos_korean_fonts:\n",
    "    if os.path.exists(font_path):\n",
    "        available_font = font_path\n",
    "        print(f\"사용 가능한 폰트 발견: {font_path}\")\n",
    "        break\n",
    "\n",
    "if available_font:\n",
    "    # 폰트 설정\n",
    "    font_prop = fm.FontProperties(fname=available_font)\n",
    "    plt.rcParams['font.family'] = font_prop.get_name()\n",
    "    plt.rcParams['axes.unicode_minus'] = False\n",
    "    print(f\"폰트 설정 완료: {font_prop.get_name()}\")\n",
    "else:\n",
    "    # 기본 폰트로 설정\n",
    "    plt.rcParams['font.family'] = 'AppleGothic'\n",
    "    plt.rcParams['axes.unicode_minus'] = False\n",
    "    print(\"기본 AppleGothic 폰트 사용\")\n",
    "\"\"\""
   ]
  },
  {
   "cell_type": "markdown",
   "id": "c1d181ab",
   "metadata": {
    "id": "c1d181ab"
   },
   "source": [
    "## 함수화"
   ]
  },
  {
   "cell_type": "code",
   "execution_count": 5,
   "id": "050d67a2",
   "metadata": {
    "executionInfo": {
     "elapsed": 25,
     "status": "ok",
     "timestamp": 1753688330106,
     "user": {
      "displayName": "Youngho LEE",
      "userId": "06875335164313575680"
     },
     "user_tz": -540
    },
    "id": "050d67a2"
   },
   "outputs": [],
   "source": [
    "# 모델 저장 함수\n",
    "def save_model(model, save_path, model_name=\"drug_detection_model\"):\n",
    "    \"\"\"훈련된 모델을 저장하는 함수\"\"\"\n",
    "    import os\n",
    "    from datetime import datetime\n",
    "\n",
    "    # 저장 디렉토리 생성\n",
    "    os.makedirs(save_path, exist_ok=True)\n",
    "\n",
    "    # 현재 시간을 포함한 파일명 생성\n",
    "    timestamp = datetime.now().strftime(\"%Y%m%d_%H%M%S\")\n",
    "    model_filename = f\"{model_name}_{timestamp}.pt\"\n",
    "    model_path = os.path.join(save_path, model_filename)\n",
    "\n",
    "    # 모델 저장\n",
    "    model.save(model_path)\n",
    "\n",
    "    print(f\"모델이 저장되었습니다: {model_path}\")\n",
    "    return model_path\n",
    "\n",
    "save_dir = \"/content/models\"\n"
   ]
  },
  {
   "cell_type": "markdown",
   "id": "ed4a67c2",
   "metadata": {
    "id": "ed4a67c2"
   },
   "source": [
    "## 데이터 불러오기"
   ]
  },
  {
   "cell_type": "code",
   "execution_count": null,
   "id": "2be6a952",
   "metadata": {
    "colab": {
     "base_uri": "https://localhost:8080/"
    },
    "executionInfo": {
     "elapsed": 24,
     "status": "ok",
     "timestamp": 1753688330131,
     "user": {
      "displayName": "Youngho LEE",
      "userId": "06875335164313575680"
     },
     "user_tz": -540
    },
    "id": "2be6a952",
    "outputId": "a18725eb-2b0d-4b15-dad2-52454f8d9b33"
   },
   "outputs": [],
   "source": [
    "# 경로 설정\n",
    "RAW_DATA_PATH = '/content/drive/MyDrive/(개인)AI_3기/프로젝트/raw_data'\n",
    "TRAIN_IMAGES_PATH = os.path.join(RAW_DATA_PATH, 'train_images')\n",
    "TRAIN_ANNOTATIONS_PATH = os.path.join(RAW_DATA_PATH, 'train_annotations')\n",
    "TEST_IMAGES_PATH = os.path.join(RAW_DATA_PATH, 'test_images')\n",
    "\n",
    "print(\"데이터 경로 확인:\")\n",
    "print(f\"Train Images: {TRAIN_IMAGES_PATH}\")\n",
    "print(f\"Train Annotations: {TRAIN_ANNOTATIONS_PATH}\")\n",
    "print(f\"Test Images: {TEST_IMAGES_PATH}\")\n"
   ]
  },
  {
   "cell_type": "code",
   "execution_count": null,
   "id": "XT90Ign-3E17",
   "metadata": {
    "id": "XT90Ign-3E17"
   },
   "outputs": [],
   "source": [
    "SRC_RAW_DATA=\"/content/drive/MyDrive/(개인)AI_3기/프로젝트/raw_data\"\n",
    "DST_RAW_DATA=\"/content/raw_data\""
   ]
  },
  {
   "cell_type": "code",
   "execution_count": null,
   "id": "PyRrHqKO3H1D",
   "metadata": {
    "id": "PyRrHqKO3H1D"
   },
   "outputs": [],
   "source": [
    "!mkdir -p \"$DST_RAW_DATA\"\n",
    "!rsync -avh --progress \"{SRC_RAW_DATA}/\" \"{DST_RAW_DATA}/\""
   ]
  },
  {
   "cell_type": "code",
   "execution_count": null,
   "id": "0zZN63DQ3Mtu",
   "metadata": {
    "colab": {
     "base_uri": "https://localhost:8080/"
    },
    "executionInfo": {
     "elapsed": 22,
     "status": "ok",
     "timestamp": 1753688330154,
     "user": {
      "displayName": "Youngho LEE",
      "userId": "06875335164313575680"
     },
     "user_tz": -540
    },
    "id": "0zZN63DQ3Mtu",
    "outputId": "5465a0a0-6949-40ee-9b12-64edbaa5db6c"
   },
   "outputs": [],
   "source": [
    "# 경로 설정\n",
    "RAW_DATA_PATH = '/content/raw_data'\n",
    "TRAIN_IMAGES_PATH = os.path.join(RAW_DATA_PATH, 'train_images')\n",
    "TRAIN_ANNOTATIONS_PATH = os.path.join(RAW_DATA_PATH, 'train_annotations')\n",
    "TEST_IMAGES_PATH = os.path.join(RAW_DATA_PATH, 'test_images')\n",
    "\n",
    "print(\"데이터 경로 확인:\")\n",
    "print(f\"Train Images: {TRAIN_IMAGES_PATH}\")\n",
    "print(f\"Train Annotations: {TRAIN_ANNOTATIONS_PATH}\")\n",
    "print(f\"Test Images: {TEST_IMAGES_PATH}\")"
   ]
  },
  {
   "cell_type": "markdown",
   "id": "1bbd4f62",
   "metadata": {
    "id": "1bbd4f62"
   },
   "source": [
    "# COCO 데이터 파싱"
   ]
  },
  {
   "cell_type": "code",
   "execution_count": null,
   "id": "cfb93b6a",
   "metadata": {
    "colab": {
     "base_uri": "https://localhost:8080/"
    },
    "executionInfo": {
     "elapsed": 1431,
     "status": "ok",
     "timestamp": 1753688331594,
     "user": {
      "displayName": "Youngho LEE",
      "userId": "06875335164313575680"
     },
     "user_tz": -540
    },
    "id": "cfb93b6a",
    "outputId": "24492531-e304-4481-b586-7a5856921327"
   },
   "outputs": [],
   "source": [
    "def load_coco_annotations(annotations_path):\n",
    "    \"\"\"COCO 형식 어노테이션 파일들을 로드하고 통합\"\"\"\n",
    "    all_annotations = []\n",
    "    all_images = []\n",
    "    all_categories = []\n",
    "\n",
    "    # 모든 JSON 파일 찾기\n",
    "    json_files = []\n",
    "    for root, dirs, files in os.walk(annotations_path):\n",
    "        for file in files:\n",
    "            if file.endswith('.json'):\n",
    "                json_files.append(os.path.join(root, file))\n",
    "\n",
    "    print(f\"총 {len(json_files)}개의 어노테이션 파일 발견\")\n",
    "\n",
    "    for json_file in json_files:\n",
    "        try:\n",
    "            with open(json_file, 'r', encoding='utf-8') as f:\n",
    "                data = json.load(f)\n",
    "\n",
    "            # 이미지 정보 추가\n",
    "            if 'images' in data:\n",
    "                all_images.extend(data['images'])\n",
    "\n",
    "            # 어노테이션 정보 추가\n",
    "            if 'annotations' in data:\n",
    "                all_annotations.extend(data['annotations'])\n",
    "\n",
    "            # 카테고리 정보 추가\n",
    "            if 'categories' in data:\n",
    "                all_categories.extend(data['categories'])\n",
    "\n",
    "        except Exception as e:\n",
    "            print(f\"Error loading {json_file}: {e}\")\n",
    "\n",
    "    return all_images, all_annotations, all_categories\n",
    "\n",
    "# 데이터 로드\n",
    "images, annotations, categories = load_coco_annotations(TRAIN_ANNOTATIONS_PATH)\n",
    "\n",
    "print(f\"총 이미지 수: {len(images)}\")\n",
    "print(f\"총 어노테이션 수: {len(annotations)}\")\n",
    "print(f\"총 카테고리 수: {len(categories)}\")\n",
    "\n",
    "# 데이터프레임으로 변환\n",
    "df_images = pd.DataFrame(images)\n",
    "df_annotations = pd.DataFrame(annotations)\n",
    "df_categories = pd.DataFrame(categories)\n",
    "\n",
    "print(\"\\n이미지 데이터 샘플:\")\n",
    "print(df_images.head())\n",
    "print(\"\\n어노테이션 데이터 샘플:\")\n",
    "print(df_annotations.head())\n",
    "print(\"\\n카테고리 데이터 샘플:\")\n",
    "print(df_categories.head())"
   ]
  },
  {
   "cell_type": "markdown",
   "id": "08f867c3",
   "metadata": {
    "id": "08f867c3"
   },
   "source": [
    "# 데이터 분석"
   ]
  },
  {
   "cell_type": "code",
   "execution_count": null,
   "id": "dcda9603",
   "metadata": {
    "colab": {
     "base_uri": "https://localhost:8080/",
     "height": 640
    },
    "executionInfo": {
     "elapsed": 370,
     "status": "ok",
     "timestamp": 1753688331963,
     "user": {
      "displayName": "Youngho LEE",
      "userId": "06875335164313575680"
     },
     "user_tz": -540
    },
    "id": "dcda9603",
    "outputId": "2cb9f558-ce0f-4f42-c067-b70bf5fd82f6"
   },
   "outputs": [],
   "source": [
    "# 이미지 크기 분석\n",
    "print(\"이미지 크기 통계:\")\n",
    "print(df_images[['width', 'height']].describe())\n",
    "\n",
    "# 이미지 크기 분포 시각화\n",
    "plt.figure(figsize=(12, 5))\n",
    "\n",
    "plt.subplot(1, 2, 1)\n",
    "plt.hist(df_images['width'], bins=30, alpha=0.7, color='skyblue')\n",
    "plt.title('Image Width Distribution')\n",
    "plt.xlabel('Width (pixels)')\n",
    "plt.ylabel('Frequency')\n",
    "\n",
    "plt.subplot(1, 2, 2)\n",
    "plt.hist(df_images['height'], bins=30, alpha=0.7, color='lightcoral')\n",
    "plt.title('Image Height Distribution')\n",
    "plt.xlabel('Height (pixels)')\n",
    "plt.ylabel('Frequency')\n",
    "\n",
    "plt.tight_layout()\n",
    "plt.show()"
   ]
  },
  {
   "cell_type": "code",
   "execution_count": null,
   "id": "c9ecd293",
   "metadata": {
    "colab": {
     "base_uri": "https://localhost:8080/",
     "height": 632
    },
    "executionInfo": {
     "elapsed": 691,
     "status": "ok",
     "timestamp": 1753688332655,
     "user": {
      "displayName": "Youngho LEE",
      "userId": "06875335164313575680"
     },
     "user_tz": -540
    },
    "id": "c9ecd293",
    "outputId": "29e2203d-725c-495a-e759-682558948f3b"
   },
   "outputs": [],
   "source": [
    "# 카테고리별 분포\n",
    "category_counts = df_categories['name'].value_counts()\n",
    "print(f\"\\n총 약 종류 수: {len(category_counts)}\")\n",
    "\n",
    "plt.figure(figsize=(15, 8))\n",
    "category_counts.head(20).plot(kind='bar')\n",
    "plt.title('Top 20 Drug Categories')\n",
    "plt.xlabel('Drug Name')\n",
    "plt.ylabel('Count')\n",
    "plt.xticks(rotation=45, ha='right')\n",
    "plt.tight_layout()\n",
    "plt.show()"
   ]
  },
  {
   "cell_type": "code",
   "execution_count": null,
   "id": "bf42d3fc",
   "metadata": {
    "colab": {
     "base_uri": "https://localhost:8080/",
     "height": 743
    },
    "executionInfo": {
     "elapsed": 3,
     "status": "ok",
     "timestamp": 1753688332659,
     "user": {
      "displayName": "Youngho LEE",
      "userId": "06875335164313575680"
     },
     "user_tz": -540
    },
    "id": "bf42d3fc",
    "outputId": "29f9939e-d3ca-4dbe-f8e2-b39476818bb3"
   },
   "outputs": [],
   "source": [
    "category_counts.head(20)"
   ]
  },
  {
   "cell_type": "code",
   "execution_count": null,
   "id": "b211da02",
   "metadata": {
    "colab": {
     "base_uri": "https://localhost:8080/",
     "height": 376
    },
    "executionInfo": {
     "elapsed": 356,
     "status": "ok",
     "timestamp": 1753688333018,
     "user": {
      "displayName": "Youngho LEE",
      "userId": "06875335164313575680"
     },
     "user_tz": -540
    },
    "id": "b211da02",
    "outputId": "9c722d24-96eb-4067-87c2-60362e5ceaeb"
   },
   "outputs": [],
   "source": [
    "# 바운딩 박스 크기 분석\n",
    "bbox_areas = df_annotations['area'].values\n",
    "bbox_widths = [bbox[2] for bbox in df_annotations['bbox']]\n",
    "bbox_heights = [bbox[3] for bbox in df_annotations['bbox']]\n",
    "\n",
    "plt.figure(figsize=(15, 5))\n",
    "\n",
    "plt.subplot(1, 3, 1)\n",
    "plt.hist(bbox_areas, bins=50, alpha=0.7, color='lightgreen')\n",
    "plt.title('Bounding Box Area Distribution')\n",
    "plt.xlabel('Area (pixels²)')\n",
    "plt.ylabel('Frequency')\n",
    "\n",
    "plt.subplot(1, 3, 2)\n",
    "plt.hist(bbox_widths, bins=50, alpha=0.7, color='orange')\n",
    "plt.title('Bounding Box Width Distribution')\n",
    "plt.xlabel('Width (pixels)')\n",
    "plt.ylabel('Frequency')\n",
    "\n",
    "plt.subplot(1, 3, 3)\n",
    "plt.hist(bbox_heights, bins=50, alpha=0.7, color='purple')\n",
    "plt.title('Bounding Box Height Distribution')\n",
    "plt.xlabel('Height (pixels)')\n",
    "plt.ylabel('Frequency')\n",
    "\n",
    "plt.tight_layout()\n",
    "plt.show()"
   ]
  },
  {
   "cell_type": "markdown",
   "id": "6b870812",
   "metadata": {
    "id": "6b870812"
   },
   "source": [
    "## 데이터 분석\n",
    "- 이미지 특성\n",
    "    - 이미지 크기 : 976 x 1280 픽셀 (모두 같음)\n",
    "    - 총 이미지 수 : 2,332개\n",
    "\n",
    "- 약 종류 분포\n",
    "    - 총 약 종류 : 73개\n",
    "    - Top rank 1 : 가네신에프정(은행엽엑스)(수출용) [514개]\n",
    "    - Top rank 2 : 일양하이트린정 2mg [240개]\n",
    "    - Top rank 3 : 보령부스파정 5mg [180개]\n",
    "\n",
    "    - 클래스 불균형 문제: 상위 약들이 압도적으로 많음\n",
    "\n",
    "- 바운딩 박스 특성\n",
    "    - 면적 : 50,000 픽셀^2 이하\n",
    "    - 너비 : 주로 200~225 픽셀\n",
    "    - 높이 : 200~250 픽셀, 475~500 픽셀 등\n"
   ]
  },
  {
   "cell_type": "markdown",
   "id": "ccf7d6ac",
   "metadata": {
    "id": "ccf7d6ac"
   },
   "source": [
    "## 이미지 전처리"
   ]
  },
  {
   "cell_type": "code",
   "execution_count": null,
   "id": "74a66776",
   "metadata": {
    "colab": {
     "base_uri": "https://localhost:8080/",
     "height": 694
    },
    "executionInfo": {
     "elapsed": 1253,
     "status": "ok",
     "timestamp": 1753688334294,
     "user": {
      "displayName": "Youngho LEE",
      "userId": "06875335164313575680"
     },
     "user_tz": -540
    },
    "id": "74a66776",
    "outputId": "14a0aeab-3d10-4b30-9a24-22b360a0848a"
   },
   "outputs": [],
   "source": [
    "def preprocess_image(image_path, target_size=(640, 640)):\n",
    "    \"\"\"이미지 전처리 함수\"\"\"\n",
    "    # 이미지 로드\n",
    "    image = cv2.imread(image_path)\n",
    "    if image is None:\n",
    "        raise ValueError(f\"이미지를 로드할 수 없습니다: {image_path}\")\n",
    "\n",
    "    # BGR to RGB 변환\n",
    "    image = cv2.cvtColor(image, cv2.COLOR_BGR2RGB)\n",
    "\n",
    "    # 원본 크기 저장\n",
    "    original_height, original_width = image.shape[:2]\n",
    "\n",
    "    # 리사이즈\n",
    "    resized_image = cv2.resize(image, target_size)\n",
    "\n",
    "    # 정규화 (0-1 범위)\n",
    "    normalized_image = resized_image.astype(np.float32) / 255.0\n",
    "\n",
    "    return {\n",
    "        'image': normalized_image,\n",
    "        'original_size': (original_width, original_height),\n",
    "        'target_size': target_size\n",
    "    }\n",
    "\n",
    "def adjust_bbox(bbox, original_size, target_size):\n",
    "    \"\"\"바운딩 박스 좌표 조정\"\"\"\n",
    "    x, y, w, h = bbox\n",
    "    orig_w, orig_h = original_size\n",
    "    target_w, target_h = target_size\n",
    "\n",
    "    # 스케일 계산\n",
    "    scale_x = target_w / orig_w\n",
    "    scale_y = target_h / orig_h\n",
    "\n",
    "    # 좌표 변환\n",
    "    new_x = x * scale_x\n",
    "    new_y = y * scale_y\n",
    "    new_w = w * scale_x\n",
    "    new_h = h * scale_y\n",
    "\n",
    "    return [new_x, new_y, new_w, new_h]\n",
    "\n",
    "# 샘플 이미지로 전처리 테스트\n",
    "sample_image_path = os.path.join(TRAIN_IMAGES_PATH, df_images.iloc[0]['file_name'])\n",
    "sample_annotation = df_annotations.iloc[0]\n",
    "\n",
    "try:\n",
    "    processed = preprocess_image(sample_image_path)\n",
    "    adjusted_bbox = adjust_bbox(\n",
    "        sample_annotation['bbox'],\n",
    "        processed['original_size'],\n",
    "        processed['target_size']\n",
    "    )\n",
    "\n",
    "    print(\"전처리 결과:\")\n",
    "    print(f\"원본 크기: {processed['original_size']}\")\n",
    "    print(f\"변환 크기: {processed['target_size']}\")\n",
    "    print(f\"원본 바운딩 박스: {sample_annotation['bbox']}\")\n",
    "    print(f\"조정된 바운딩 박스: {adjusted_bbox}\")\n",
    "\n",
    "    # 시각화\n",
    "    plt.figure(figsize=(12, 6))\n",
    "\n",
    "    # 원본 이미지\n",
    "    original_img = cv2.imread(sample_image_path)\n",
    "    original_img = cv2.cvtColor(original_img, cv2.COLOR_BGR2RGB)\n",
    "    plt.subplot(1, 2, 1)\n",
    "    plt.imshow(original_img)\n",
    "    x, y, w, h = sample_annotation['bbox']\n",
    "    rect = plt.Rectangle((x, y), w, h, linewidth=2, edgecolor='red', facecolor='none')\n",
    "    plt.gca().add_patch(rect)\n",
    "    plt.title('Original Image with BBox')\n",
    "    plt.axis('off')\n",
    "\n",
    "    # 전처리된 이미지\n",
    "    plt.subplot(1, 2, 2)\n",
    "    plt.imshow(processed['image'])\n",
    "    x, y, w, h = adjusted_bbox\n",
    "    rect = plt.Rectangle((x, y), w, h, linewidth=2, edgecolor='red', facecolor='none')\n",
    "    plt.gca().add_patch(rect)\n",
    "    plt.title('Preprocessed Image with Adjusted BBox')\n",
    "    plt.axis('off')\n",
    "\n",
    "    plt.tight_layout()\n",
    "    plt.show()\n",
    "\n",
    "except Exception as e:\n",
    "    print(f\"전처리 테스트 중 오류: {e}\")"
   ]
  },
  {
   "cell_type": "markdown",
   "id": "72195db7",
   "metadata": {
    "id": "72195db7"
   },
   "source": [
    "## 데이터 증강"
   ]
  },
  {
   "cell_type": "code",
   "execution_count": 14,
   "id": "11147080",
   "metadata": {
    "executionInfo": {
     "elapsed": 32,
     "status": "ok",
     "timestamp": 1753688334423,
     "user": {
      "displayName": "Youngho LEE",
      "userId": "06875335164313575680"
     },
     "user_tz": -540
    },
    "id": "11147080"
   },
   "outputs": [],
   "source": [
    "class DrugDetectionTransforms:\n",
    "\n",
    "    def __init__(self, is_training=True, target_size=(640, 640)):\n",
    "        self.is_training = is_training\n",
    "        self.target_size = target_size\n",
    "\n",
    "        if is_training:\n",
    "            self.transform = v2.Compose([\n",
    "                v2.Resize(target_size),\n",
    "                #v2.RandomHorizontalFlip(p=0.5),\n",
    "                #v2.RandomVerticalFlip(p=0.3),\n",
    "                v2.RandomRotation(degrees=90),\n",
    "                v2.ColorJitter(brightness=0.2, contrast=0.2, saturation=0.2, hue=0.1),\n",
    "                #v2.RandomGrayscale(p=0.1),\n",
    "                v2.ToTensor(),\n",
    "                v2.Normalize(mean=[0.485, 0.456, 0.406], std=[0.229, 0.224, 0.225])\n",
    "            ])\n",
    "        else:\n",
    "            self.transform = v2.Compose([\n",
    "                v2.Resize(target_size),\n",
    "                v2.ToTensor(),\n",
    "                v2.Normalize(mean=[0.485, 0.456, 0.406], std=[0.229, 0.224, 0.225])\n",
    "            ])\n",
    "\n",
    "    def __call__(self, image, bboxes=None, labels=None):\n",
    "        # PIL Image로 변환\n",
    "        if isinstance(image, np.ndarray):\n",
    "            image = Image.fromarray(image)\n",
    "\n",
    "        # 이미지 변환\n",
    "        transformed_image = self.transform(image)\n",
    "\n",
    "        # 바운딩 박스 조정 (간단한 스케일링)\n",
    "        if bboxes is not None and self.is_training:\n",
    "            # 랜덤 변환에 따른 바운딩 박스 조정\n",
    "            adjusted_bboxes = self._adjust_bboxes(bboxes, image.size, self.target_size)\n",
    "            return transformed_image, adjusted_bboxes, labels\n",
    "\n",
    "        return transformed_image, bboxes, labels\n",
    "\n",
    "    def _adjust_bboxes(self, bboxes, original_size, target_size):\n",
    "        \"\"\"바운딩 박스 조정 (간단한 스케일링)\"\"\"\n",
    "        orig_w, orig_h = original_size\n",
    "        target_w, target_h = target_size\n",
    "\n",
    "        scale_x = target_w / orig_w\n",
    "        scale_y = target_h / orig_h\n",
    "\n",
    "        adjusted_bboxes = []\n",
    "        for bbox in bboxes:\n",
    "            x, y, w, h = bbox\n",
    "            new_x = x * scale_x\n",
    "            new_y = y * scale_y\n",
    "            new_w = w * scale_x\n",
    "            new_h = h * scale_y\n",
    "            adjusted_bboxes.append([new_x, new_y, new_w, new_h])\n",
    "\n",
    "        return adjusted_bboxes"
   ]
  },
  {
   "cell_type": "markdown",
   "id": "7def2a20",
   "metadata": {
    "id": "7def2a20"
   },
   "source": [
    "## 데이터 셋"
   ]
  },
  {
   "cell_type": "code",
   "execution_count": 15,
   "id": "65db3e57",
   "metadata": {
    "executionInfo": {
     "elapsed": 2,
     "status": "ok",
     "timestamp": 1753688336659,
     "user": {
      "displayName": "Youngho LEE",
      "userId": "06875335164313575680"
     },
     "user_tz": -540
    },
    "id": "65db3e57"
   },
   "outputs": [],
   "source": [
    "class DrugDetectionDataset(Dataset):\n",
    "\n",
    "    def __init__(self, images_df, annotations_df, categories_df,\n",
    "                 images_path, transform=None, target_size=(640, 640)):\n",
    "        self.images_df = images_df\n",
    "        self.annotations_df = annotations_df\n",
    "        self.categories_df = categories_df\n",
    "        self.images_path = images_path\n",
    "        self.transform = transform\n",
    "        self.target_size = target_size\n",
    "\n",
    "        # 카테고리 ID 매핑 생성\n",
    "        self.category_to_id = {cat['name']: cat['id'] for _, cat in categories_df.iterrows()}\n",
    "        self.id_to_category = {cat['id']: cat['name'] for _, cat in categories_df.iterrows()}\n",
    "\n",
    "        # 이미지 ID별 어노테이션 그룹화\n",
    "        self.image_annotations = {}\n",
    "        for _, ann in annotations_df.iterrows():\n",
    "            img_id = ann['image_id']\n",
    "            if img_id not in self.image_annotations:\n",
    "                self.image_annotations[img_id] = []\n",
    "            self.image_annotations[img_id].append(ann)\n",
    "\n",
    "    def __len__(self):\n",
    "        return len(self.images_df)\n",
    "\n",
    "    def __getitem__(self, idx):\n",
    "        # 이미지 정보 가져오기\n",
    "        img_info = self.images_df.iloc[idx]\n",
    "        img_path = os.path.join(self.images_path, img_info['file_name'])\n",
    "\n",
    "        # 이미지 로드 (PIL 사용)\n",
    "        image = Image.open(img_path).convert('RGB')\n",
    "\n",
    "        # 어노테이션 가져오기\n",
    "        img_id = img_info['id']\n",
    "        annotations = self.image_annotations.get(img_id, [])\n",
    "\n",
    "        # 바운딩 박스와 라벨 준비\n",
    "        bboxes = []\n",
    "        labels = []\n",
    "\n",
    "        for ann in annotations:\n",
    "            bbox = ann['bbox']  # [x, y, w, h]\n",
    "            category_id = ann['category_id']\n",
    "            bboxes.append(bbox)\n",
    "            labels.append(category_id)\n",
    "\n",
    "        # 데이터 증강 적용\n",
    "        if self.transform:\n",
    "            image, bboxes, labels = self.transform(image, bboxes, labels)\n",
    "\n",
    "        return {\n",
    "            'image': image,\n",
    "            'bboxes': torch.tensor(bboxes, dtype=torch.float32) if bboxes else torch.empty((0, 4)),\n",
    "            'labels': torch.tensor(labels, dtype=torch.long) if labels else torch.empty((0,), dtype=torch.long),\n",
    "            'image_id': img_id,\n",
    "            'original_size': (img_info['width'], img_info['height'])\n",
    "        }"
   ]
  },
  {
   "cell_type": "code",
   "execution_count": null,
   "id": "24c66085",
   "metadata": {
    "colab": {
     "base_uri": "https://localhost:8080/"
    },
    "executionInfo": {
     "elapsed": 545,
     "status": "ok",
     "timestamp": 1753688338937,
     "user": {
      "displayName": "Youngho LEE",
      "userId": "06875335164313575680"
     },
     "user_tz": -540
    },
    "id": "24c66085",
    "outputId": "5d8b3b54-2435-4f45-a718-07c8a65e8031"
   },
   "outputs": [],
   "source": [
    "# 데이터 증강 파이프라인 생성\n",
    "train_transform = DrugDetectionTransforms(is_training=True, target_size=(640, 640))\n",
    "val_transform = DrugDetectionTransforms(is_training=False, target_size=(640, 640))\n",
    "\n",
    "# 데이터셋 생성\n",
    "train_dataset = DrugDetectionDataset(\n",
    "    df_images, df_annotations, df_categories,\n",
    "    TRAIN_IMAGES_PATH,\n",
    "    transform=train_transform\n",
    ")\n",
    "\n",
    "# 데이터로더 생성\n",
    "train_loader = DataLoader(\n",
    "    train_dataset,\n",
    "    batch_size=32,\n",
    "    shuffle=True,\n",
    "    num_workers=2\n",
    ")\n",
    "\n",
    "print(f\"데이터셋 크기: {len(train_dataset)}\")\n",
    "print(f\"데이터로더 배치 수: {len(train_loader)}\")"
   ]
  },
  {
   "cell_type": "markdown",
   "id": "8747b1ca",
   "metadata": {},
   "source": [
    "-----"
   ]
  },
  {
   "cell_type": "markdown",
   "id": "e87405c4",
   "metadata": {
    "id": "e87405c4"
   },
   "source": [
    "# 모델"
   ]
  },
  {
   "cell_type": "markdown",
   "id": "bf039ace",
   "metadata": {
    "id": "bf039ace"
   },
   "source": [
    "## YOLO\n",
    " - https://docs.ultralytics.com/models/"
   ]
  },
  {
   "cell_type": "markdown",
   "id": "0f2a9ebb",
   "metadata": {
    "id": "0f2a9ebb"
   },
   "source": [
    "### YOLO v8"
   ]
  },
  {
   "cell_type": "markdown",
   "id": "4d3fa082",
   "metadata": {
    "id": "4d3fa082"
   },
   "source": [
    "#### YOLO v8 설정"
   ]
  },
  {
   "cell_type": "code",
   "execution_count": null,
   "id": "ElEpNUfbynpK",
   "metadata": {
    "colab": {
     "base_uri": "https://localhost:8080/"
    },
    "executionInfo": {
     "elapsed": 5902,
     "status": "ok",
     "timestamp": 1753688359610,
     "user": {
      "displayName": "Youngho LEE",
      "userId": "06875335164313575680"
     },
     "user_tz": -540
    },
    "id": "ElEpNUfbynpK",
    "outputId": "65f91663-dcaa-4655-e7e6-dd9afed00eef"
   },
   "outputs": [],
   "source": [
    "!pip install ultralytics"
   ]
  },
  {
   "cell_type": "code",
   "execution_count": null,
   "id": "Bov0Surz-RSu",
   "metadata": {
    "colab": {
     "base_uri": "https://localhost:8080/"
    },
    "executionInfo": {
     "elapsed": 258,
     "status": "ok",
     "timestamp": 1753688383381,
     "user": {
      "displayName": "Youngho LEE",
      "userId": "06875335164313575680"
     },
     "user_tz": -540
    },
    "id": "Bov0Surz-RSu",
    "outputId": "9f2ed2c9-10fc-48d0-bf04-103c3aa9ddea"
   },
   "outputs": [],
   "source": [
    "# YOLO v5 설정 및 확인\n",
    "from ultralytics import YOLO\n",
    "import os\n",
    "import shutil"
   ]
  },
  {
   "cell_type": "code",
   "execution_count": null,
   "id": "7402836c",
   "metadata": {
    "colab": {
     "base_uri": "https://localhost:8080/"
    },
    "executionInfo": {
     "elapsed": 2698,
     "status": "ok",
     "timestamp": 1753676023106,
     "user": {
      "displayName": "Youngho LEE",
      "userId": "06875335164313575680"
     },
     "user_tz": -540
    },
    "id": "7402836c",
    "outputId": "6654d0be-32a8-43e1-e37b-8f26cbe4412e"
   },
   "outputs": [],
   "source": [
    "# YOLO v5 설정 및 확인\n",
    "from ultralytics import YOLO\n",
    "import os\n",
    "import shutil\n",
    "\n",
    "# YOLO v8 모델 로드 테스트\n",
    "model = YOLO('yolov8x.pt')  # 작은 모델로 시작\n",
    "print(\"YOLO v8 모델 로드 성공!\")\n",
    "\n",
    "# 현재 디렉토리 구조 확인\n",
    "print(f\"현재 작업 디렉토리: {os.getcwd()}\")"
   ]
  },
  {
   "cell_type": "markdown",
   "id": "2cab3dc0",
   "metadata": {
    "id": "2cab3dc0"
   },
   "source": [
    "#### YOLO v8 데이터셋 변환"
   ]
  },
  {
   "cell_type": "code",
   "execution_count": 19,
   "id": "cf6bd507",
   "metadata": {
    "executionInfo": {
     "elapsed": 3,
     "status": "ok",
     "timestamp": 1753688389287,
     "user": {
      "displayName": "Youngho LEE",
      "userId": "06875335164313575680"
     },
     "user_tz": -540
    },
    "id": "cf6bd507"
   },
   "outputs": [],
   "source": [
    "def convert_to_yolo_format(images_df, annotations_df, categories_df,\n",
    "                          images_path, output_path):\n",
    "    \"\"\"COCO 형식을 YOLO 형식으로 변환\"\"\"\n",
    "\n",
    "    # 출력 디렉토리 생성\n",
    "    os.makedirs(output_path, exist_ok=True)\n",
    "    os.makedirs(os.path.join(output_path, 'images'), exist_ok=True)\n",
    "    os.makedirs(os.path.join(output_path, 'labels'), exist_ok=True)\n",
    "\n",
    "    # 고유한 카테고리만 추출하고 0부터 시작하는 인덱스 매핑\n",
    "    unique_categories = categories_df['name'].unique()\n",
    "    category_mapping = {}\n",
    "\n",
    "    # 원본 카테고리 ID를 0부터 시작하는 인덱스로 매핑\n",
    "    for idx, cat_name in enumerate(unique_categories):\n",
    "        # 해당 이름을 가진 카테고리의 원본 ID 찾기\n",
    "        original_id = categories_df[categories_df['name'] == cat_name]['id'].iloc[0]\n",
    "        category_mapping[original_id] = idx\n",
    "\n",
    "    print(f\"총 {len(category_mapping)}개 카테고리 매핑 완료\")\n",
    "    print(f\"매핑 예시: {list(category_mapping.items())[:5]}\")\n",
    "\n",
    "    # 이미지 ID별 어노테이션 그룹화\n",
    "    image_annotations = {}\n",
    "    for _, ann in annotations_df.iterrows():\n",
    "        img_id = ann['image_id']\n",
    "        if img_id not in image_annotations:\n",
    "            image_annotations[img_id] = []\n",
    "        image_annotations[img_id].append(ann)\n",
    "\n",
    "    # 각 이미지에 대해 YOLO 형식으로 변환\n",
    "    for idx, (_, img_info) in enumerate(images_df.iterrows()):\n",
    "        img_id = img_info['id']\n",
    "        img_filename = img_info['file_name']\n",
    "\n",
    "        # 이미지 복사\n",
    "        src_img_path = os.path.join(images_path, img_filename)\n",
    "        dst_img_path = os.path.join(output_path, 'images', img_filename)\n",
    "        shutil.copy2(src_img_path, dst_img_path)\n",
    "\n",
    "        # 라벨 파일 생성\n",
    "        label_filename = img_filename.replace('.png', '.txt')\n",
    "        label_path = os.path.join(output_path, 'labels', label_filename)\n",
    "\n",
    "        annotations = image_annotations.get(img_id, [])\n",
    "\n",
    "        with open(label_path, 'w') as f:\n",
    "            for ann in annotations:\n",
    "                # 바운딩 박스 좌표 (COCO: [x, y, w, h] -> YOLO: [x_center, y_center, w, h])\n",
    "                bbox = ann['bbox']\n",
    "                x, y, w, h = bbox\n",
    "\n",
    "                # 이미지 크기\n",
    "                img_width = img_info['width']\n",
    "                img_height = img_info['height']\n",
    "\n",
    "                # YOLO 형식으로 변환 (정규화된 좌표)\n",
    "                x_center = (x + w/2) / img_width\n",
    "                y_center = (y + h/2) / img_height\n",
    "                w_norm = w / img_width\n",
    "                h_norm = h / img_height\n",
    "\n",
    "                # 카테고리 ID (YOLO는 0부터 시작)\n",
    "                category_id = category_mapping[ann['category_id']]\n",
    "\n",
    "                # YOLO 형식: class_id x_center y_center width height\n",
    "                f.write(f\"{category_id} {x_center:.6f} {y_center:.6f} {w_norm:.6f} {h_norm:.6f}\\n\")\n",
    "\n",
    "        if (idx + 1) % 100 == 0:\n",
    "            print(f\"진행률: {idx + 1}/{len(images_df)}\")\n",
    "\n",
    "    # classes.txt 파일 생성\n",
    "    classes_path = os.path.join(output_path, 'classes.txt')\n",
    "    with open(classes_path, 'w', encoding='utf-8') as f:\n",
    "        for _, cat in categories_df.iterrows():\n",
    "            f.write(f\"{cat['name']}\\n\")\n",
    "\n",
    "    print(f\"YOLO 형식 변환 완료! 출력 경로: {output_path}\")\n",
    "    return output_path"
   ]
  },
  {
   "cell_type": "code",
   "execution_count": null,
   "id": "c6daf692",
   "metadata": {
    "colab": {
     "base_uri": "https://localhost:8080/"
    },
    "executionInfo": {
     "elapsed": 28017,
     "status": "ok",
     "timestamp": 1753688419957,
     "user": {
      "displayName": "Youngho LEE",
      "userId": "06875335164313575680"
     },
     "user_tz": -540
    },
    "id": "c6daf692",
    "outputId": "0cd09fdf-a4b0-4a93-a170-2823c9465797"
   },
   "outputs": [],
   "source": [
    "# 데이터셋 분할 (훈련/검증)\n",
    "from sklearn.model_selection import train_test_split\n",
    "\n",
    "if os.path.exists('/content/raw_data/data_lyh/yolo_dataset'):\n",
    "    shutil.rmtree('/content/raw_data/data_lyh/yolo_dataset')\n",
    "\n",
    "train_images, val_images = train_test_split(\n",
    "    df_images, test_size=0.2, random_state=42\n",
    ")\n",
    "\n",
    "print(f\"훈련 데이터: {len(train_images)}개\")\n",
    "print(f\"검증 데이터: {len(val_images)}개\")\n",
    "\n",
    "# YOLO 형식으로 변환\n",
    "yolo_dataset_path = '/content/raw_data/data_lyh/yolo_dataset'\n",
    "\n",
    "# 훈련 데이터 변환\n",
    "train_path = os.path.join(yolo_dataset_path, 'train')\n",
    "convert_to_yolo_format(\n",
    "    train_images, df_annotations, df_categories,\n",
    "    TRAIN_IMAGES_PATH, train_path\n",
    ")\n",
    "\n",
    "# 검증 데이터 변환\n",
    "val_path = os.path.join(yolo_dataset_path, 'val')\n",
    "convert_to_yolo_format(\n",
    "    val_images, df_annotations, df_categories,\n",
    "    TRAIN_IMAGES_PATH, val_path\n",
    ")\n",
    "\n",
    "print(\"데이터셋 변환 완료!\")"
   ]
  },
  {
   "cell_type": "code",
   "execution_count": null,
   "id": "b7342753",
   "metadata": {
    "colab": {
     "base_uri": "https://localhost:8080/"
    },
    "executionInfo": {
     "elapsed": 7,
     "status": "ok",
     "timestamp": 1753688419974,
     "user": {
      "displayName": "Youngho LEE",
      "userId": "06875335164313575680"
     },
     "user_tz": -540
    },
    "id": "b7342753",
    "outputId": "1e3d9e8b-2487-41c4-e0e5-74fb3cd07f8e"
   },
   "outputs": [],
   "source": [
    "# 카테고리 수 변화 원인 확인\n",
    "print(\"이전 고유 카테고리 수:\", len(df_categories['name'].unique()))\n",
    "\n",
    "# 중복 제거 확인\n",
    "unique_categories = df_categories['name'].unique()\n",
    "print(\"실제 고유 카테고리:\", len(unique_categories))"
   ]
  },
  {
   "cell_type": "code",
   "execution_count": null,
   "id": "68431edb",
   "metadata": {
    "colab": {
     "base_uri": "https://localhost:8080/"
    },
    "executionInfo": {
     "elapsed": 5,
     "status": "ok",
     "timestamp": 1753688419980,
     "user": {
      "displayName": "Youngho LEE",
      "userId": "06875335164313575680"
     },
     "user_tz": -540
    },
    "id": "68431edb",
    "outputId": "fcaf88f5-a891-48f7-8f74-cbfcd747a0c6"
   },
   "outputs": [],
   "source": [
    "# 라벨 파일 내용 확인\n",
    "import os\n",
    "label_files = os.listdir('/content/raw_data/data_lyh/yolo_dataset/train/labels')\n",
    "sample_label_path = os.path.join('/content/raw_data/data_lyh/yolo_dataset/train/labels', label_files[0])\n",
    "\n",
    "with open(sample_label_path, 'r') as f:\n",
    "    print(\"샘플 라벨 파일 내용:\")\n",
    "    print(f.read())"
   ]
  },
  {
   "cell_type": "code",
   "execution_count": 23,
   "id": "23067b0d",
   "metadata": {
    "colab": {
     "base_uri": "https://localhost:8080/",
     "height": 53
    },
    "executionInfo": {
     "elapsed": 16,
     "status": "ok",
     "timestamp": 1753688421343,
     "user": {
      "displayName": "Youngho LEE",
      "userId": "06875335164313575680"
     },
     "user_tz": -540
    },
    "id": "23067b0d",
    "outputId": "24688650-2116-4507-b358-fab1e7779737"
   },
   "outputs": [
    {
     "data": {
      "application/vnd.google.colaboratory.intrinsic+json": {
       "type": "string"
      },
      "text/plain": [
       "'\\nwith open(\\'/content/raw_data/data_lyh/yolo_dataset/dataset.yaml\\', \\'r\\') as f:\\n    print(\"YAML 파일 내용:\")\\n    print(f.read())\\n'"
      ]
     },
     "execution_count": 23,
     "metadata": {},
     "output_type": "execute_result"
    }
   ],
   "source": [
    "# YAML 파일 내용 확인\n",
    "\"\"\"\n",
    "with open('/content/raw_data/data_lyh/yolo_dataset/dataset.yaml', 'r') as f:\n",
    "    print(\"YAML 파일 내용:\")\n",
    "    print(f.read())\n",
    "\"\"\""
   ]
  },
  {
   "cell_type": "code",
   "execution_count": null,
   "id": "a0217bcc",
   "metadata": {
    "colab": {
     "base_uri": "https://localhost:8080/"
    },
    "executionInfo": {
     "elapsed": 7,
     "status": "ok",
     "timestamp": 1753688422962,
     "user": {
      "displayName": "Youngho LEE",
      "userId": "06875335164313575680"
     },
     "user_tz": -540
    },
    "id": "a0217bcc",
    "outputId": "4d97989d-dfc9-4879-acbc-1131296d55aa"
   },
   "outputs": [],
   "source": [
    "# 현재 매핑 상태 확인\n",
    "print(\"원본 카테고리 ID들:\")\n",
    "print(df_categories['id'].unique()[:10])  # 처음 10개 확인\n",
    "\n",
    "#print(\"\\n매핑된 카테고리 ID들:\")\n",
    "#print(list(category_mapping.items())[:10])  # 처음 10개 확인"
   ]
  },
  {
   "cell_type": "markdown",
   "id": "f074aae4",
   "metadata": {
    "id": "f074aae4"
   },
   "source": [
    "#### YOLO 설정 파일 생성"
   ]
  },
  {
   "cell_type": "code",
   "execution_count": null,
   "id": "1b211f86",
   "metadata": {
    "colab": {
     "base_uri": "https://localhost:8080/"
    },
    "executionInfo": {
     "elapsed": 14,
     "status": "ok",
     "timestamp": 1753688424558,
     "user": {
      "displayName": "Youngho LEE",
      "userId": "06875335164313575680"
     },
     "user_tz": -540
    },
    "id": "1b211f86",
    "outputId": "74ff3b67-9026-4283-e50f-e1e93e46a37b"
   },
   "outputs": [],
   "source": [
    "# 카테고리별 분포\n",
    "category_counts = df_categories['name'].value_counts()\n",
    "print(f\"\\n총 약 종류 수: {len(category_counts)}\")"
   ]
  },
  {
   "cell_type": "code",
   "execution_count": null,
   "id": "9d36eb10",
   "metadata": {
    "colab": {
     "base_uri": "https://localhost:8080/"
    },
    "executionInfo": {
     "elapsed": 6,
     "status": "ok",
     "timestamp": 1753688425702,
     "user": {
      "displayName": "Youngho LEE",
      "userId": "06875335164313575680"
     },
     "user_tz": -540
    },
    "id": "9d36eb10",
    "outputId": "2b76ca17-88cb-408b-bcd0-43d9bd85c7b9"
   },
   "outputs": [],
   "source": [
    "# 중복된 카테고리 제거하고 고유한 약 이름만 추출\n",
    "unique_categories = df_categories['name'].unique()\n",
    "unique_categories_list = unique_categories.tolist()\n",
    "\n",
    "print(len(unique_categories_list))\n",
    "print(unique_categories_list)"
   ]
  },
  {
   "cell_type": "code",
   "execution_count": null,
   "id": "4f90c906",
   "metadata": {
    "colab": {
     "base_uri": "https://localhost:8080/"
    },
    "executionInfo": {
     "elapsed": 12,
     "status": "ok",
     "timestamp": 1753688429264,
     "user": {
      "displayName": "Youngho LEE",
      "userId": "06875335164313575680"
     },
     "user_tz": -540
    },
    "id": "4f90c906",
    "outputId": "5f5012e5-d761-4f4f-9fb3-d7bd4a6370f1"
   },
   "outputs": [],
   "source": [
    "# YOLO 설정 파일 생성\n",
    "yaml_content = f\"\"\"\n",
    "# YOLO v8 설정 파일\n",
    "path: {os.path.abspath(yolo_dataset_path)}  # 데이터셋 루트 경로\n",
    "train: train/images  # 훈련 이미지 경로\n",
    "val: val/images      # 검증 이미지 경로\n",
    "\n",
    "# 클래스 수 (고유한 약 종류 수)\n",
    "nc: {len(unique_categories)}  # 클래스 개수\n",
    "\n",
    "# 클래스 이름\n",
    "names: {unique_categories_list}\n",
    "\"\"\"\n",
    "\n",
    "# 설정 파일 저장\n",
    "yaml_path = os.path.join(yolo_dataset_path, 'dataset.yaml')\n",
    "with open(yaml_path, 'w', encoding='utf-8') as f:\n",
    "    f.write(yaml_content)\n",
    "\n",
    "print(f\"YOLO 설정 파일 생성 완료: {yaml_path}\")\n",
    "print(f\"총 클래스 수: {len(unique_categories)}\")\n",
    "print(f\"고유한 약 종류: {len(unique_categories)}개\")\n",
    "\n",
    "# YAML 파일 내용 확인\n",
    "print(\"\\nYAML 파일 내용:\")\n",
    "with open(yaml_path, 'r', encoding='utf-8') as f:\n",
    "    print(f.read())"
   ]
  },
  {
   "cell_type": "code",
   "execution_count": null,
   "id": "bc696212",
   "metadata": {
    "colab": {
     "base_uri": "https://localhost:8080/"
    },
    "executionInfo": {
     "elapsed": 8,
     "status": "ok",
     "timestamp": 1753688431256,
     "user": {
      "displayName": "Youngho LEE",
      "userId": "06875335164313575680"
     },
     "user_tz": -540
    },
    "id": "bc696212",
    "outputId": "066b1e4e-1786-4de6-cd0b-979bb4339170"
   },
   "outputs": [],
   "source": [
    "# 라벨 파일 내용 확인\n",
    "label_path = '/content/raw_data/data_lyh/yolo_dataset/train/labels/K-001900-010224-016551-031705_0_2_0_2_70_000_200.txt'\n",
    "with open(label_path, 'r') as f:\n",
    "    print(f.read())"
   ]
  },
  {
   "cell_type": "code",
   "execution_count": null,
   "id": "e1cf3006",
   "metadata": {
    "colab": {
     "base_uri": "https://localhost:8080/"
    },
    "executionInfo": {
     "elapsed": 7,
     "status": "ok",
     "timestamp": 1753688432905,
     "user": {
      "displayName": "Youngho LEE",
      "userId": "06875335164313575680"
     },
     "user_tz": -540
    },
    "id": "e1cf3006",
    "outputId": "d4addafa-5331-4588-cf19-49875d9baf8a"
   },
   "outputs": [],
   "source": [
    "# YAML 파일 내용 확인\n",
    "with open('/content/raw_data/data_lyh/yolo_dataset/dataset.yaml', 'r') as f:\n",
    "    print(f.read())"
   ]
  },
  {
   "cell_type": "markdown",
   "id": "c30207df",
   "metadata": {
    "id": "c30207df"
   },
   "source": [
    "#### YOLO 모델 학습"
   ]
  },
  {
   "cell_type": "code",
   "execution_count": 31,
   "id": "M4kmWDJcKdjR",
   "metadata": {
    "executionInfo": {
     "elapsed": 562,
     "status": "ok",
     "timestamp": 1753676050601,
     "user": {
      "displayName": "Youngho LEE",
      "userId": "06875335164313575680"
     },
     "user_tz": -540
    },
    "id": "M4kmWDJcKdjR"
   },
   "outputs": [],
   "source": [
    "!wget -q https://github.com/ultralytics/assets/releases/download/v8.3.0/yolov8x.pt \\\n",
    "      -O /content/yolov8x.pt"
   ]
  },
  {
   "cell_type": "code",
   "execution_count": null,
   "id": "OGzq-lWeUJxX",
   "metadata": {
    "colab": {
     "base_uri": "https://localhost:8080/"
    },
    "executionInfo": {
     "elapsed": 7,
     "status": "ok",
     "timestamp": 1753676050611,
     "user": {
      "displayName": "Youngho LEE",
      "userId": "06875335164313575680"
     },
     "user_tz": -540
    },
    "id": "OGzq-lWeUJxX",
    "outputId": "08bf6060-0d7e-413c-c811-55fa0e92f2f7"
   },
   "outputs": [],
   "source": [
    "import torch\n",
    "print(torch.__version__, torch.version.cuda)"
   ]
  },
  {
   "cell_type": "markdown",
   "id": "RRrMJudJdeqq",
   "metadata": {
    "id": "RRrMJudJdeqq"
   },
   "source": [
    "2.7.1+cu118 11.8"
   ]
  },
  {
   "cell_type": "code",
   "execution_count": null,
   "id": "4c2ac6f2",
   "metadata": {
    "colab": {
     "base_uri": "https://localhost:8080/"
    },
    "executionInfo": {
     "elapsed": 1132612,
     "status": "ok",
     "timestamp": 1753682396025,
     "user": {
      "displayName": "Youngho LEE",
      "userId": "06875335164313575680"
     },
     "user_tz": -540
    },
    "id": "4c2ac6f2",
    "outputId": "d3bc555a-96fd-453c-d48a-82e17bf8584e"
   },
   "outputs": [],
   "source": [
    "# YOLO v8 모델 학습\n",
    "def train_yolo_v8_model():\n",
    "    \"\"\"YOLO v8 모델 학습\"\"\"\n",
    "\n",
    "    # 모델 초기화 (v8로 변경)\n",
    "    model = YOLO('/content/yolov8n.pt')  # nano 버전부터 시작\n",
    "\n",
    "    # 학습 설정 (v8 최적화)\n",
    "    results = model.train(\n",
    "        data=yaml_path,           # 기존 dataset.yaml 그대로 사용\n",
    "        epochs=100,               # 에포크 수\n",
    "        imgsz=640,               # 이미지 크기 (640, 512, 416)\n",
    "        batch=8,                 # 배치 크기 (8, 4, 2)\n",
    "        device=device,           # 디바이스 (MPS/CPU)\n",
    "        patience=10,             # Early stopping patience\n",
    "        save=True,               # 모델 저장\n",
    "        # save_period=1,            # 매 에폭마다 저장\n",
    "        project='drug_detection_v8n_b8_imgv3', # 프로젝트 이름\n",
    "        name='yolov8n_drug_model_b8_imgv3', # 실험 이름\n",
    "        exist_ok=True,           # 기존 실험 덮어쓰기\n",
    "        pretrained=True,         # 사전 훈련된 가중치 사용\n",
    "        optimizer='Adam',        # 옵티마이저\n",
    "        lr0=0.001,              # 초기 학습률\n",
    "        weight_decay=0.0005,     # 가중치 감쇠\n",
    "        warmup_epochs=3,         # 워밍업 에포크\n",
    "        cos_lr=True,            # 코사인 학습률 스케줄링\n",
    "        half=True,            # 메모리 절약용\n",
    "        format='pt',\n",
    "\n",
    "        #augment=True,                 # 증강 기능 켜기\n",
    "        #hsv_h=0.02,                  # 색조(hue) 변동 폭: ±2%\n",
    "        #hsv_s=0.4,                    # 채도(saturation) 변동 폭: ±40%\n",
    "        #hsv_v=0.6,                    # 명도(value) 변동 폭: ±40%\n",
    "        #degrees=20.0,                 # 회전 각도 범위: ±20°\n",
    "        #translate=0.2,                # 평행 이동: ±20% (x/y)\n",
    "        #scale=0.5,                    # 크기 조정: 0.5×–1.5×\n",
    "        #shear=2.0,                    # 전단(shear) 각도: ±2°\n",
    "\n",
    "    )\n",
    "\n",
    "    return results, model\n",
    "\n",
    "# 학습 시작\n",
    "print(\"YOLO 모델 학습 시작...\")\n",
    "results, trained_model = train_yolo_v8_model()\n",
    "print(\"학습 완료!\")\n",
    "\n",
    "saved_model_path = save_model(trained_model, save_dir)\n",
    "\n",
    "# 학습 결과 시각화\n",
    "#results.plot()  # 학습 곡선 플롯"
   ]
  },
  {
   "cell_type": "code",
   "execution_count": null,
   "id": "TWINjd3VL4ol",
   "metadata": {
    "id": "TWINjd3VL4ol"
   },
   "outputs": [],
   "source": [
    "def train_yolo_v11n_model(yaml_path: str, save_dir: str, device: str = 'cpu'):\n",
    "    \"\"\"YOLO v11 nano 모델 학습\"\"\"\n",
    "\n",
    "    # 1) 모델 초기화 (v11 nano)\n",
    "    model = YOLO('/content/yolo11n.pt')\n",
    "\n",
    "    # 2) 학습 설정\n",
    "    results = model.train(\n",
    "        data=yaml_path,            # dataset.yaml 경로\n",
    "        epochs=100,                # 총 에포크 수\n",
    "        imgsz=640,                 # 입력 이미지 크기\n",
    "        batch=8,                   # 배치 크기\n",
    "        device=device,             # 'cpu', 'cuda:0' 등\n",
    "        patience=10,               # EarlyStopping patience\n",
    "        save=True,                 # 최종 모델 저장\n",
    "        project='drug_detection_v11n',  # 저장할 프로젝트 폴더명\n",
    "        name='yolov11_drug_model',      # 실험 이름\n",
    "        exist_ok=True,             # 동일 이름 실험 덮어쓰기\n",
    "        pretrained=True,           # 사전 훈련된 가중치 사용\n",
    "        optimizer='Adam',          # 옵티마이저\n",
    "        lr0=0.001,                 # 초기 학습률\n",
    "        weight_decay=0.0005,       # 가중치 감쇠\n",
    "        warmup_epochs=3,           # 워밍업 에포크 수\n",
    "        cos_lr=True,               # 코사인 러닝레이트 스케줄러\n",
    "        amp=True,                  # 자동 Mixed Precision (v8의 half=True 대체)\n",
    "        time=None,                 # 학습 시간 제한(시간 단위), None이면 제한 없음\n",
    "        close_mosaic=10,           # 마지막 10 에포크에서 mosaic 강화 끄기\n",
    "        fraction=1.0,              # 학습 데이터 비율 (0~1)\n",
    "        profile=False,             # ONNX/TensorRT 속도 프로파일링\n",
    "        freeze=[0],                # 고정할 레이어 번호 리스트\n",
    "        format='pt'                # 저장 포맷\n",
    "    )\n",
    "\n",
    "    return results, model"
   ]
  },
  {
   "cell_type": "code",
   "execution_count": null,
   "id": "lg92vindMTyI",
   "metadata": {
    "id": "lg92vindMTyI"
   },
   "outputs": [],
   "source": []
  },
  {
   "cell_type": "markdown",
   "id": "b9b74783",
   "metadata": {
    "id": "b9b74783"
   },
   "source": [
    "### 모델 불러오기"
   ]
  },
  {
   "cell_type": "code",
   "execution_count": 30,
   "id": "fbhgT5w2-ges",
   "metadata": {
    "executionInfo": {
     "elapsed": 4,
     "status": "ok",
     "timestamp": 1753688452285,
     "user": {
      "displayName": "Youngho LEE",
      "userId": "06875335164313575680"
     },
     "user_tz": -540
    },
    "id": "fbhgT5w2-ges"
   },
   "outputs": [],
   "source": [
    "saved_model_path = '/content/best_19.pt'"
   ]
  },
  {
   "cell_type": "code",
   "execution_count": 50,
   "id": "hzqb59psnpS6",
   "metadata": {
    "executionInfo": {
     "elapsed": 5,
     "status": "ok",
     "timestamp": 1753682455926,
     "user": {
      "displayName": "Youngho LEE",
      "userId": "06875335164313575680"
     },
     "user_tz": -540
    },
    "id": "hzqb59psnpS6"
   },
   "outputs": [],
   "source": [
    "saved_model_path = '/content/drug_detection_v8n_b8_imgv3/yolov8n_drug_model_b8_imgv3/weights/best.pt'"
   ]
  },
  {
   "cell_type": "code",
   "execution_count": 46,
   "id": "lPgQcDOviZZu",
   "metadata": {
    "executionInfo": {
     "elapsed": 17,
     "status": "ok",
     "timestamp": 1753681096185,
     "user": {
      "displayName": "Youngho LEE",
      "userId": "06875335164313575680"
     },
     "user_tz": -540
    },
    "id": "lPgQcDOviZZu"
   },
   "outputs": [],
   "source": [
    "saved_model_path = '/content/drug_detection_v8n_b32_imgv3/yolov8n_drug_model_b32_imgv3/weights/best.pt'"
   ]
  },
  {
   "cell_type": "code",
   "execution_count": 42,
   "id": "FXxUP6AgdFfm",
   "metadata": {
    "executionInfo": {
     "elapsed": 5,
     "status": "ok",
     "timestamp": 1753679688557,
     "user": {
      "displayName": "Youngho LEE",
      "userId": "06875335164313575680"
     },
     "user_tz": -540
    },
    "id": "FXxUP6AgdFfm"
   },
   "outputs": [],
   "source": [
    "saved_model_path = '/content/drug_detection_v8x_b32_imgv3/yolov8x_drug_model_b32_imgv3/weights/best.pt'"
   ]
  },
  {
   "cell_type": "code",
   "execution_count": 38,
   "id": "ih_H813hZDLP",
   "metadata": {
    "executionInfo": {
     "elapsed": 4,
     "status": "ok",
     "timestamp": 1753678630475,
     "user": {
      "displayName": "Youngho LEE",
      "userId": "06875335164313575680"
     },
     "user_tz": -540
    },
    "id": "ih_H813hZDLP"
   },
   "outputs": [],
   "source": [
    "saved_model_path = '/content/drug_detection_v8x_b32_imgv3_aug2/yolov8x_drug_model_b32_imgv3_aug2/weights/best.pt'"
   ]
  },
  {
   "cell_type": "code",
   "execution_count": 34,
   "id": "9aE-UqQ5UKBD",
   "metadata": {
    "executionInfo": {
     "elapsed": 14,
     "status": "ok",
     "timestamp": 1753677352462,
     "user": {
      "displayName": "Youngho LEE",
      "userId": "06875335164313575680"
     },
     "user_tz": -540
    },
    "id": "9aE-UqQ5UKBD"
   },
   "outputs": [],
   "source": [
    "saved_model_path = '/content/drug_detection_v8x_b32_imgv3_aug/yolov8x_drug_model_b32_imgv3_aug/weights/best.pt'"
   ]
  },
  {
   "cell_type": "code",
   "execution_count": 52,
   "id": "kinpeC-i356X",
   "metadata": {
    "executionInfo": {
     "elapsed": 5,
     "status": "ok",
     "timestamp": 1753669947650,
     "user": {
      "displayName": "Youngho LEE",
      "userId": "06875335164313575680"
     },
     "user_tz": -540
    },
    "id": "kinpeC-i356X"
   },
   "outputs": [],
   "source": [
    "saved_model_path = '/content/drug_detection_v8x_b16_imgv3/yolov8x_drug_model_b16_imgv3/weights/best.pt'"
   ]
  },
  {
   "cell_type": "code",
   "execution_count": 47,
   "id": "U8dlG5bvxMul",
   "metadata": {
    "executionInfo": {
     "elapsed": 10,
     "status": "ok",
     "timestamp": 1753668183795,
     "user": {
      "displayName": "Youngho LEE",
      "userId": "06875335164313575680"
     },
     "user_tz": -540
    },
    "id": "U8dlG5bvxMul"
   },
   "outputs": [],
   "source": [
    "saved_model_path = '/content/drug_detection_v8x_b32_imgv3/yolov8x_drug_model_b32_imgv3/weights/best.pt'"
   ]
  },
  {
   "cell_type": "code",
   "execution_count": 40,
   "id": "OjH5rl8gkl5M",
   "metadata": {
    "executionInfo": {
     "elapsed": 3,
     "status": "ok",
     "timestamp": 1753664883600,
     "user": {
      "displayName": "Youngho LEE",
      "userId": "06875335164313575680"
     },
     "user_tz": -540
    },
    "id": "OjH5rl8gkl5M"
   },
   "outputs": [],
   "source": [
    "saved_model_path = '/content/drug_detection_v8l_b8_imgv3/yolov8l_drug_model_b8_imgv3/weights/best.pt'"
   ]
  },
  {
   "cell_type": "code",
   "execution_count": 34,
   "id": "B74KjuHPdlem",
   "metadata": {
    "executionInfo": {
     "elapsed": 3,
     "status": "ok",
     "timestamp": 1753663047067,
     "user": {
      "displayName": "Youngho LEE",
      "userId": "06875335164313575680"
     },
     "user_tz": -540
    },
    "id": "B74KjuHPdlem"
   },
   "outputs": [],
   "source": [
    "saved_model_path = '/content/drug_detection_v8n_b8_imgv3/yolov8n_drug_model_b8_imgv3/weights/best.pt'"
   ]
  },
  {
   "cell_type": "code",
   "execution_count": null,
   "id": "l45MJaeDXNZT",
   "metadata": {
    "id": "l45MJaeDXNZT"
   },
   "outputs": [],
   "source": [
    "saved_model_path = '/content/drug_detection_v8x_b32_imgv3/yolov8x_drug_model_b32_imgv3/weights/best.pt'"
   ]
  },
  {
   "cell_type": "code",
   "execution_count": null,
   "id": "QdehiHLnKyHO",
   "metadata": {
    "id": "QdehiHLnKyHO"
   },
   "outputs": [],
   "source": [
    "saved_model_path = '/content/drug_detection_v8x_b8_imgv3/yolov8x_drug_model_b8_imgv3/weights/best.pt'"
   ]
  },
  {
   "cell_type": "code",
   "execution_count": null,
   "id": "8lxGUdWvoFnt",
   "metadata": {
    "id": "8lxGUdWvoFnt"
   },
   "outputs": [],
   "source": [
    "saved_model_path = '/content/drug_detection_model_YOLOv5x_b8_e100(61)_20250723_1.pt'"
   ]
  },
  {
   "cell_type": "code",
   "execution_count": null,
   "id": "BWW-S-1ooE0S",
   "metadata": {
    "id": "BWW-S-1ooE0S"
   },
   "outputs": [],
   "source": [
    "saved_model_path = '/content/drug_detection_model_YOLOv5x_b32_e100(85)_20250723_2.pt'"
   ]
  },
  {
   "cell_type": "code",
   "execution_count": null,
   "id": "Ll9MpOGtqEtL",
   "metadata": {
    "id": "Ll9MpOGtqEtL"
   },
   "outputs": [],
   "source": [
    "saved_model_path = '/content/models/drug_detection_model_20250723_044917.pt'"
   ]
  },
  {
   "cell_type": "code",
   "execution_count": null,
   "id": "ohrrpKCvbGAj",
   "metadata": {
    "id": "ohrrpKCvbGAj"
   },
   "outputs": [],
   "source": [
    "saved_model_path = '/content/drug_detection_v8x_b32/yolov8x_drug_model_b32/weights/best.pt'"
   ]
  },
  {
   "cell_type": "code",
   "execution_count": null,
   "id": "mJo-D3VLXK4H",
   "metadata": {
    "id": "mJo-D3VLXK4H"
   },
   "outputs": [],
   "source": [
    "saved_model_path = '/content/drug_detection_v8s/yolov8_drug_model/weights/best.pt'"
   ]
  },
  {
   "cell_type": "code",
   "execution_count": null,
   "id": "9bf5fe32",
   "metadata": {
    "colab": {
     "base_uri": "https://localhost:8080/"
    },
    "executionInfo": {
     "elapsed": 1421,
     "status": "ok",
     "timestamp": 1753688456425,
     "user": {
      "displayName": "Youngho LEE",
      "userId": "06875335164313575680"
     },
     "user_tz": -540
    },
    "id": "9bf5fe32",
    "outputId": "84812a39-1e0f-4a5d-8703-235d804c0a38"
   },
   "outputs": [],
   "source": [
    "# 모델 불러오기 함수\n",
    "def load_model(model_path):\n",
    "    try:\n",
    "        # 모델 로드\n",
    "        model = YOLO(model_path)\n",
    "        print(f\"모델이 성공적으로 로드되었습니다: {model_path}\")\n",
    "        return model\n",
    "    except Exception as e:\n",
    "        print(f\"모델 로드 중 오류 발생: {e}\")\n",
    "        return None\n",
    "\n",
    "# 모델 불러오기 실행\n",
    "loaded_model = load_model(saved_model_path)"
   ]
  },
  {
   "cell_type": "markdown",
   "id": "0ae14d6b",
   "metadata": {
    "id": "0ae14d6b"
   },
   "source": [
    "### 모델 성능 평가"
   ]
  },
  {
   "cell_type": "code",
   "execution_count": null,
   "id": "c3c03fcd",
   "metadata": {
    "colab": {
     "base_uri": "https://localhost:8080/",
     "height": 1000
    },
    "executionInfo": {
     "elapsed": 30018,
     "status": "error",
     "timestamp": 1753688829468,
     "user": {
      "displayName": "Youngho LEE",
      "userId": "06875335164313575680"
     },
     "user_tz": -540
    },
    "id": "c3c03fcd",
    "outputId": "fd627e96-d729-45dd-fc51-52dc7ea14e89"
   },
   "outputs": [],
   "source": [
    "# 모델 성능 평가 함수\n",
    "def evaluate_model(model, data_path):\n",
    "\n",
    "    # 검증 데이터셋에서 평가\n",
    "    results = model.val(data=data_path)\n",
    "\n",
    "    # 결과 출력\n",
    "    print(\"=== 모델 성능 평가 결과 ===\")\n",
    "    print(f\"mAP50: {results.box.map50:.3f}\")\n",
    "    print(f\"mAP50-95: {results.box.map:.3f}\")\n",
    "    print(f\"Precision: {results.box.mp:.3f}\")\n",
    "    print(f\"Recall: {results.box.mr:.3f}\")\n",
    "\n",
    "    return results\n",
    "\n",
    "# 모델 평가 실행\n",
    "if loaded_model:\n",
    "    evaluation_results = evaluate_model(loaded_model, yaml_path)"
   ]
  },
  {
   "cell_type": "code",
   "execution_count": null,
   "id": "wCJKICQbB6fM",
   "metadata": {
    "colab": {
     "base_uri": "https://localhost:8080/"
    },
    "executionInfo": {
     "elapsed": 64509,
     "status": "ok",
     "timestamp": 1753689416856,
     "user": {
      "displayName": "Youngho LEE",
      "userId": "06875335164313575680"
     },
     "user_tz": -540
    },
    "id": "wCJKICQbB6fM",
    "outputId": "3b5be537-b746-411e-f292-b53a595f9f1e"
   },
   "outputs": [],
   "source": [
    "from ultralytics import YOLO\n",
    "\n",
    "# 1. Load your trained .pt weights\n",
    "model = YOLO(saved_model_path)\n",
    "\n",
    "# 2. Run inference (detect) on a directory of images\n",
    "#    – source can be a folder, a single image, or even a video file\n",
    "results = model.predict(\n",
    "    source='/content/raw_data/data_lyh/yolo_dataset/val/images/',\n",
    "    imgsz=640,        # image resize\n",
    "    conf=0.25,        # confidence threshold\n",
    "    save=True         # save annotated images to runs/detect/\n",
    ")\n",
    "\n",
    "# 3. Inspect the results\n",
    "for r in results:\n",
    "    # r.boxes.xyxy, r.boxes.conf, r.boxes.cls\n",
    "    print(r)"
   ]
  },
  {
   "cell_type": "code",
   "execution_count": null,
   "id": "vynhYry8CT2G",
   "metadata": {
    "colab": {
     "base_uri": "https://localhost:8080/",
     "height": 1000
    },
    "executionInfo": {
     "elapsed": 29738,
     "status": "error",
     "timestamp": 1753690036615,
     "user": {
      "displayName": "Youngho LEE",
      "userId": "06875335164313575680"
     },
     "user_tz": -540
    },
    "id": "vynhYry8CT2G",
    "outputId": "df498ab8-1abf-4e59-8b04-66e4389a98c8"
   },
   "outputs": [],
   "source": [
    "# 모델 성능 평가 함수\n",
    "def evaluate_model(model, data_path):\n",
    "\n",
    "    # 검증 데이터셋에서 평가\n",
    "    results = model.val(data=data_path)\n",
    "\n",
    "    # 결과 출력\n",
    "    print(\"=== 모델 성능 평가 결과 ===\")\n",
    "    print(f\"mAP50: {results.box.map50:.3f}\")\n",
    "    print(f\"mAP50-95: {results.box.map:.3f}\")\n",
    "    print(f\"Precision: {results.box.mp:.3f}\")\n",
    "    print(f\"Recall: {results.box.mr:.3f}\")\n",
    "\n",
    "    return results\n",
    "\n",
    "# 모델 평가 실행\n",
    "if loaded_model:\n",
    "    evaluation_results = evaluate_model(model, '/content/dataset.yaml')"
   ]
  },
  {
   "cell_type": "markdown",
   "id": "6759226c",
   "metadata": {
    "id": "6759226c"
   },
   "source": [
    "### 모델 테스트"
   ]
  },
  {
   "cell_type": "code",
   "execution_count": null,
   "id": "b752c9d0",
   "metadata": {
    "id": "b752c9d0"
   },
   "outputs": [],
   "source": [
    "# 모델 추론 테스트 함수\n",
    "def test_inference(model, image_path):\n",
    "\n",
    "    # 이미지 로드\n",
    "    image = cv2.imread(image_path)\n",
    "    image_rgb = cv2.cvtColor(image, cv2.COLOR_BGR2RGB)\n",
    "\n",
    "    # 추론 실행\n",
    "    results = model(image_path)\n",
    "\n",
    "    # 결과 시각화\n",
    "    for result in results:\n",
    "        boxes = result.boxes\n",
    "        if boxes is not None:\n",
    "            # 바운딩 박스 그리기\n",
    "            for box in boxes:\n",
    "                # 좌표 추출\n",
    "                x1, y1, x2, y2 = box.xyxy[0].cpu().numpy()\n",
    "                conf = box.conf[0].cpu().numpy()\n",
    "                cls = int(box.cls[0].cpu().numpy())\n",
    "\n",
    "                # 박스 그리기\n",
    "                cv2.rectangle(image_rgb, (int(x1), int(y1)), (int(x2), int(y2)), (255, 0, 0), 2)\n",
    "\n",
    "                # 라벨 추가\n",
    "                label = f\"Class {cls}: {conf:.2f}\"\n",
    "                cv2.putText(image_rgb, label, (int(x1), int(y1)-10),\n",
    "                           cv2.FONT_HERSHEY_SIMPLEX, 0.5, (255, 0, 0), 2)\n",
    "\n",
    "    # 결과 이미지 표시\n",
    "    plt.figure(figsize=(12, 8))\n",
    "    plt.imshow(image_rgb)\n",
    "    plt.title(\"Drug Detection Results\")\n",
    "    plt.axis('off')\n",
    "    plt.show()\n",
    "\n",
    "    return results"
   ]
  },
  {
   "cell_type": "code",
   "execution_count": null,
   "id": "9f4f488b",
   "metadata": {
    "id": "9f4f488b"
   },
   "outputs": [],
   "source": [
    "# 테스트 실행 (샘플 이미지 경로 지정 필요)\n",
    "sample_image_path = \"/content/raw_data/data_lyh/yolo_dataset/val/images/K-001900-010224-016551-031705_0_2_0_2_90_000_200.png\"\n",
    "if loaded_model and os.path.exists(sample_image_path):\n",
    "    inference_results = test_inference(loaded_model, sample_image_path)\n",
    "else:\n",
    "    if os.path.exists(sample_image_path):\n",
    "        print(\"a\")\n",
    "    else:\n",
    "        print(\"b\")"
   ]
  },
  {
   "cell_type": "code",
   "execution_count": null,
   "id": "mzIrw2CClVrp",
   "metadata": {
    "id": "mzIrw2CClVrp"
   },
   "outputs": [],
   "source": [
    "import cv2\n",
    "import yaml\n",
    "import matplotlib.pyplot as plt\n",
    "from ultralytics import YOLO\n",
    "from PIL import Image, ImageDraw, ImageFont\n",
    "import numpy as np\n",
    "import subprocess\n",
    "\n",
    "# Colab/노트북에 한글폰트 설치 (한번만 실행)\n",
    "subprocess.run(['apt-get', 'update', '-qq'])\n",
    "subprocess.run(['apt-get', 'install', '-qq', 'fonts-nanum'])\n",
    "\n",
    "# 2) 폰트 로드 (NanumGothic 예시)\n",
    "font_path = \"/usr/share/fonts/truetype/nanum/NanumGothic.ttf\"\n",
    "font = ImageFont.truetype(font_path, size=20)"
   ]
  },
  {
   "cell_type": "code",
   "execution_count": null,
   "id": "w1buGdj6nFUg",
   "metadata": {
    "id": "w1buGdj6nFUg"
   },
   "outputs": [],
   "source": [
    "import os\n",
    "from subprocess import run\n",
    "\n",
    "font_path = '/usr/share/fonts/truetype/nanum/NanumBarunGothic.ttf'\n",
    "\n",
    "if not os.path.exists(font_path):\n",
    "    run(['sudo','apt-get','install','-y','fonts-nanum'], check=True)\n",
    "    run(['sudo','fc-cache','-fv'], check=True)\n",
    "    # matplotlib 캐시 지우기\n",
    "    run(['rm','-rf', os.path.expanduser('~/.cache/matplotlib')], check=True)"
   ]
  },
  {
   "cell_type": "code",
   "execution_count": null,
   "id": "BTlq-YmcnIJr",
   "metadata": {
    "id": "BTlq-YmcnIJr"
   },
   "outputs": [],
   "source": [
    "import matplotlib.pyplot as plt\n",
    "import matplotlib.font_manager as fm\n",
    "import warnings\n",
    "\n",
    "warnings.filterwarnings(action='ignore')\n",
    "path = '/usr/share/fonts/truetype/nanum/NanumBarunGothic.ttf'           # 나눔 고딕\n",
    "fm.fontManager.addfont(path)\n",
    "plt.rc('font', family=fm.FontProperties(fname=path, size=10).get_name()) # 기본 폰트 사이즈 : 10"
   ]
  },
  {
   "cell_type": "code",
   "execution_count": null,
   "id": "uv_k0gzknKuc",
   "metadata": {
    "id": "uv_k0gzknKuc"
   },
   "outputs": [],
   "source": [
    "# 1) YAML에서 클래스 이름 한 번만 로드\n",
    "with open('/content/raw_data/data_lyh/yolo_dataset/dataset.yaml', 'r') as f:\n",
    "    data_cfg = yaml.safe_load(f)\n",
    "class_names = data_cfg['names']  # 리스트: 인덱스 0~72 → 약 이름"
   ]
  },
  {
   "cell_type": "code",
   "execution_count": null,
   "id": "9Re3CO86eiyx",
   "metadata": {
    "id": "9Re3CO86eiyx"
   },
   "outputs": [],
   "source": [
    "# 2) 추론 및 시각화 함수\n",
    "def test_inference2(model, image_path, class_names=class_names):\n",
    "    \"\"\"\n",
    "    YOLO 모델로 이미지 추론 후, 박스 위에 약 이름과 confidence를 그려서 보여줍니다.\n",
    "    \"\"\"\n",
    "    # 이미지 로드 & RGB 변환\n",
    "    image = cv2.imread(image_path)\n",
    "    image_rgb = cv2.cvtColor(image, cv2.COLOR_BGR2RGB)\n",
    "\n",
    "    # 추론 실행 (results: list of Results)\n",
    "    results = model(image_path)\n",
    "\n",
    "    pil_img = Image.fromarray(image_rgb)\n",
    "    draw   = ImageDraw.Draw(pil_img)\n",
    "\n",
    "    # 결과 시각화\n",
    "    for res in results:\n",
    "        for box in res.boxes:\n",
    "            x1,y1,x2,y2 = box.xyxy[0].cpu().numpy().astype(int)\n",
    "            conf       = float(box.conf[0].cpu().numpy())\n",
    "            cls        = int(box.cls[0].cpu().numpy())\n",
    "            name       = class_names[cls]\n",
    "            label      = f\"{name} {conf:.2f}\"\n",
    "\n",
    "            # 박스\n",
    "            draw.rectangle([x1,y1,x2,y2], outline=\"red\", width=2)\n",
    "\n",
    "            # 한글 텍스트\n",
    "            draw.text((x1, y1-20), label, font=font, fill=\"red\")\n",
    "\n",
    "    # 5) 다시 NumPy → Matplotlib 출력\n",
    "    out = np.array(pil_img)\n",
    "    plt.figure(figsize=(10,6))\n",
    "    plt.imshow(out)\n",
    "    plt.axis('off')\n",
    "    plt.show()\n",
    "    return results\n",
    "\n",
    "\n",
    "    return results\n",
    "\n",
    "\n"
   ]
  },
  {
   "cell_type": "code",
   "execution_count": null,
   "id": "vGMt-szZkNqY",
   "metadata": {
    "id": "vGMt-szZkNqY"
   },
   "outputs": [],
   "source": [
    "sample_image_path = \"/content/raw_data/data_lyh/yolo_dataset/val/images/K-001900-010224-016551-031705_0_2_0_2_70_000_200.png\"\n",
    "if loaded_model and os.path.exists(sample_image_path):\n",
    "    inference_results = test_inference2(loaded_model, sample_image_path)"
   ]
  },
  {
   "cell_type": "code",
   "execution_count": null,
   "id": "m45vzoy2k_Mp",
   "metadata": {
    "id": "m45vzoy2k_Mp"
   },
   "outputs": [],
   "source": [
    "import glob\n",
    "\n",
    "# 1) 모델 로드\n",
    "model = YOLO(loaded_model)\n",
    "\n",
    "# 2) 테스트 이미지 경로 리스트 (경로는 실제 위치에 맞게 바꿔주세요)\n",
    "test_dir = '/content/raw_data/test_images'\n",
    "image_paths = sorted(glob.glob(os.path.join(test_dir, '*.png')))\n",
    "\n",
    "# 3) 결과를 담아둘 리스트\n",
    "rows = []\n",
    "\n",
    "# 4) 각 이미지에 대해 추론 → SubmissionString 생성\n",
    "for img_path in image_paths:\n",
    "    img_id = os.path.basename(img_path)\n",
    "    # conf threshold, device 등은 필요에 맞게 조절\n",
    "    results = model.predict(source=img_path, conf=0.25, device=0)\n",
    "\n",
    "    preds = []\n",
    "    for res in results:            # 리스트지만 보통 1개\n",
    "        for box in res.boxes:      # res.boxes: DetectMultiBackend output\n",
    "            cls   = int(box.cls[0].cpu().numpy())\n",
    "            conf  = float(box.conf[0].cpu().numpy())\n",
    "            x1,y1,x2,y2 = box.xyxy[0].cpu().numpy()\n",
    "            # 예: class conf x1 y1 x2 y2 (절대 좌표)\n",
    "            preds.append(f\"{cls} {conf:.2f} {x1:.1f} {y1:.1f} {x2:.1f} {y2:.1f}\")\n",
    "\n",
    "    # 예: PredictionString 열에 공백으로 구분된 예측 문자열을 합칩니다\n",
    "    pred_str = \" \".join(preds)\n",
    "    rows.append({\n",
    "        'image_id': img_id,\n",
    "        'PredictionString': pred_str\n",
    "    })\n",
    "\n",
    "# 5) DataFrame 생성 및 CSV 저장\n",
    "submission = pd.DataFrame(rows, columns=['image_id','PredictionString'])\n",
    "submission.to_csv('submission.csv', index=False)\n",
    "\n",
    "print(\"submission.csv 생성 완료:\", submission.head())"
   ]
  },
  {
   "cell_type": "code",
   "execution_count": null,
   "id": "0VV_RvTwo00n",
   "metadata": {
    "id": "0VV_RvTwo00n"
   },
   "outputs": [],
   "source": []
  }
 ],
 "metadata": {
  "accelerator": "GPU",
  "colab": {
   "gpuType": "T4",
   "machine_shape": "hm",
   "provenance": []
  },
  "kernelspec": {
   "display_name": "Python 3",
   "name": "python3"
  },
  "language_info": {
   "name": "python"
  }
 },
 "nbformat": 4,
 "nbformat_minor": 5
}
